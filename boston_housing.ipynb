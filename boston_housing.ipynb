{
  "nbformat": 4,
  "nbformat_minor": 0,
  "metadata": {
    "colab": {
      "name": "boston_housing.ipynb",
      "provenance": [],
      "collapsed_sections": []
    },
    "kernelspec": {
      "name": "python3",
      "display_name": "Python 3"
    },
    "language_info": {
      "name": "python"
    }
  },
  "cells": [
    {
      "cell_type": "code",
      "metadata": {
        "id": "Ark0TG-LjcSi"
      },
      "source": [
        "import numpy"
      ],
      "execution_count": null,
      "outputs": []
    },
    {
      "cell_type": "code",
      "metadata": {
        "id": "_TfizUln9yDf"
      },
      "source": [
        "from numpy import arange"
      ],
      "execution_count": null,
      "outputs": []
    },
    {
      "cell_type": "code",
      "metadata": {
        "id": "j5AqrcL-97qu"
      },
      "source": [
        "from matplotlib import pyplot"
      ],
      "execution_count": null,
      "outputs": []
    },
    {
      "cell_type": "code",
      "metadata": {
        "id": "b6uQ6YuY-A5g"
      },
      "source": [
        "from pandas import read_csv\n",
        "from pandas import set_option\n",
        "from pandas.plotting import scatter_matrix"
      ],
      "execution_count": null,
      "outputs": []
    },
    {
      "cell_type": "code",
      "metadata": {
        "id": "ezHkwpp4-Si0"
      },
      "source": [
        "from sklearn.preprocessing import StandardScaler"
      ],
      "execution_count": null,
      "outputs": []
    },
    {
      "cell_type": "code",
      "metadata": {
        "id": "009jn7UR-bOy"
      },
      "source": [
        "from sklearn.model_selection import train_test_split\n",
        "from sklearn.model_selection import KFold\n",
        "from sklearn.model_selection import cross_val_score\n",
        "from sklearn.model_selection import GridSearchCV"
      ],
      "execution_count": null,
      "outputs": []
    },
    {
      "cell_type": "code",
      "metadata": {
        "id": "d8UDLWBqAFEc"
      },
      "source": [
        "from sklearn.linear_model import LinearRegression\n",
        "from sklearn.linear_model import Lasso\n",
        "from sklearn.linear_model import ElasticNet"
      ],
      "execution_count": null,
      "outputs": []
    },
    {
      "cell_type": "code",
      "metadata": {
        "id": "tEm2xwbwAfpG"
      },
      "source": [
        "from sklearn.tree import DecisionTreeRegressor\n",
        "from sklearn.neighbors import KNeighborsRegressor\n",
        "from sklearn.svm import SVR\n",
        "from sklearn.pipeline import Pipeline\n",
        "from sklearn.ensemble import RandomForestRegressor\n",
        "from sklearn.ensemble import GradientBoostingRegressor\n",
        "from sklearn.ensemble import ExtraTreesRegressor\n",
        "from sklearn.ensemble import AdaBoostRegressor\n",
        "from sklearn.metrics import mean_squared_error"
      ],
      "execution_count": null,
      "outputs": []
    },
    {
      "cell_type": "code",
      "metadata": {
        "id": "v27N0QV0BoC-"
      },
      "source": [
        "# Load dataset\n",
        "filename = 'housing.csv'\n",
        "names = ['CRIM', 'ZN', 'INDUS', 'CHAS', 'NOX', 'RM', 'AGE', 'DIS', 'RAD', 'TAX', 'PTRATIO',\n",
        "'B', 'LSTAT', 'MEDV']\n",
        "dataset = read_csv(filename, delim_whitespace=True, names=names)"
      ],
      "execution_count": null,
      "outputs": []
    },
    {
      "cell_type": "code",
      "metadata": {
        "colab": {
          "base_uri": "https://localhost:8080/",
          "height": 204
        },
        "id": "qci6ZNXsjtGz",
        "outputId": "d789d798-4660-4d8b-ac80-48cb22d1c923"
      },
      "source": [
        "dataset.head()"
      ],
      "execution_count": null,
      "outputs": [
        {
          "output_type": "execute_result",
          "data": {
            "text/html": [
              "<div>\n",
              "<style scoped>\n",
              "    .dataframe tbody tr th:only-of-type {\n",
              "        vertical-align: middle;\n",
              "    }\n",
              "\n",
              "    .dataframe tbody tr th {\n",
              "        vertical-align: top;\n",
              "    }\n",
              "\n",
              "    .dataframe thead th {\n",
              "        text-align: right;\n",
              "    }\n",
              "</style>\n",
              "<table border=\"1\" class=\"dataframe\">\n",
              "  <thead>\n",
              "    <tr style=\"text-align: right;\">\n",
              "      <th></th>\n",
              "      <th>CRIM</th>\n",
              "      <th>ZN</th>\n",
              "      <th>INDUS</th>\n",
              "      <th>CHAS</th>\n",
              "      <th>NOX</th>\n",
              "      <th>RM</th>\n",
              "      <th>AGE</th>\n",
              "      <th>DIS</th>\n",
              "      <th>RAD</th>\n",
              "      <th>TAX</th>\n",
              "      <th>PTRATIO</th>\n",
              "      <th>B</th>\n",
              "      <th>LSTAT</th>\n",
              "      <th>MEDV</th>\n",
              "    </tr>\n",
              "  </thead>\n",
              "  <tbody>\n",
              "    <tr>\n",
              "      <th>0</th>\n",
              "      <td>0.00632</td>\n",
              "      <td>18.0</td>\n",
              "      <td>2.31</td>\n",
              "      <td>0</td>\n",
              "      <td>0.538</td>\n",
              "      <td>6.575</td>\n",
              "      <td>65.2</td>\n",
              "      <td>4.0900</td>\n",
              "      <td>1</td>\n",
              "      <td>296.0</td>\n",
              "      <td>15.3</td>\n",
              "      <td>396.90</td>\n",
              "      <td>4.98</td>\n",
              "      <td>24.0</td>\n",
              "    </tr>\n",
              "    <tr>\n",
              "      <th>1</th>\n",
              "      <td>0.02731</td>\n",
              "      <td>0.0</td>\n",
              "      <td>7.07</td>\n",
              "      <td>0</td>\n",
              "      <td>0.469</td>\n",
              "      <td>6.421</td>\n",
              "      <td>78.9</td>\n",
              "      <td>4.9671</td>\n",
              "      <td>2</td>\n",
              "      <td>242.0</td>\n",
              "      <td>17.8</td>\n",
              "      <td>396.90</td>\n",
              "      <td>9.14</td>\n",
              "      <td>21.6</td>\n",
              "    </tr>\n",
              "    <tr>\n",
              "      <th>2</th>\n",
              "      <td>0.02729</td>\n",
              "      <td>0.0</td>\n",
              "      <td>7.07</td>\n",
              "      <td>0</td>\n",
              "      <td>0.469</td>\n",
              "      <td>7.185</td>\n",
              "      <td>61.1</td>\n",
              "      <td>4.9671</td>\n",
              "      <td>2</td>\n",
              "      <td>242.0</td>\n",
              "      <td>17.8</td>\n",
              "      <td>392.83</td>\n",
              "      <td>4.03</td>\n",
              "      <td>34.7</td>\n",
              "    </tr>\n",
              "    <tr>\n",
              "      <th>3</th>\n",
              "      <td>0.03237</td>\n",
              "      <td>0.0</td>\n",
              "      <td>2.18</td>\n",
              "      <td>0</td>\n",
              "      <td>0.458</td>\n",
              "      <td>6.998</td>\n",
              "      <td>45.8</td>\n",
              "      <td>6.0622</td>\n",
              "      <td>3</td>\n",
              "      <td>222.0</td>\n",
              "      <td>18.7</td>\n",
              "      <td>394.63</td>\n",
              "      <td>2.94</td>\n",
              "      <td>33.4</td>\n",
              "    </tr>\n",
              "    <tr>\n",
              "      <th>4</th>\n",
              "      <td>0.06905</td>\n",
              "      <td>0.0</td>\n",
              "      <td>2.18</td>\n",
              "      <td>0</td>\n",
              "      <td>0.458</td>\n",
              "      <td>7.147</td>\n",
              "      <td>54.2</td>\n",
              "      <td>6.0622</td>\n",
              "      <td>3</td>\n",
              "      <td>222.0</td>\n",
              "      <td>18.7</td>\n",
              "      <td>396.90</td>\n",
              "      <td>5.33</td>\n",
              "      <td>36.2</td>\n",
              "    </tr>\n",
              "  </tbody>\n",
              "</table>\n",
              "</div>"
            ],
            "text/plain": [
              "      CRIM    ZN  INDUS  CHAS    NOX  ...    TAX  PTRATIO       B  LSTAT  MEDV\n",
              "0  0.00632  18.0   2.31     0  0.538  ...  296.0     15.3  396.90   4.98  24.0\n",
              "1  0.02731   0.0   7.07     0  0.469  ...  242.0     17.8  396.90   9.14  21.6\n",
              "2  0.02729   0.0   7.07     0  0.469  ...  242.0     17.8  392.83   4.03  34.7\n",
              "3  0.03237   0.0   2.18     0  0.458  ...  222.0     18.7  394.63   2.94  33.4\n",
              "4  0.06905   0.0   2.18     0  0.458  ...  222.0     18.7  396.90   5.33  36.2\n",
              "\n",
              "[5 rows x 14 columns]"
            ]
          },
          "metadata": {},
          "execution_count": 10
        }
      ]
    },
    {
      "cell_type": "code",
      "metadata": {
        "colab": {
          "base_uri": "https://localhost:8080/"
        },
        "id": "bojQ0aSxlpAX",
        "outputId": "5d8da4f9-a767-4496-e322-56c4a9214079"
      },
      "source": [
        "dataset.shape"
      ],
      "execution_count": null,
      "outputs": [
        {
          "output_type": "execute_result",
          "data": {
            "text/plain": [
              "(506, 14)"
            ]
          },
          "metadata": {},
          "execution_count": 11
        }
      ]
    },
    {
      "cell_type": "code",
      "metadata": {
        "colab": {
          "base_uri": "https://localhost:8080/"
        },
        "id": "JcVOlCS1l0_2",
        "outputId": "4d38374d-6801-43bb-f747-a925706c74cf"
      },
      "source": [
        "dataset.dtypes"
      ],
      "execution_count": null,
      "outputs": [
        {
          "output_type": "execute_result",
          "data": {
            "text/plain": [
              "CRIM       float64\n",
              "ZN         float64\n",
              "INDUS      float64\n",
              "CHAS         int64\n",
              "NOX        float64\n",
              "RM         float64\n",
              "AGE        float64\n",
              "DIS        float64\n",
              "RAD          int64\n",
              "TAX        float64\n",
              "PTRATIO    float64\n",
              "B          float64\n",
              "LSTAT      float64\n",
              "MEDV       float64\n",
              "dtype: object"
            ]
          },
          "metadata": {},
          "execution_count": 12
        }
      ]
    },
    {
      "cell_type": "code",
      "metadata": {
        "colab": {
          "base_uri": "https://localhost:8080/",
          "height": 297
        },
        "id": "R22zzGwxl4vG",
        "outputId": "da00967c-c6c2-40c9-cbdc-ef9879a36786"
      },
      "source": [
        "set_option('precision', 1)\n",
        "dataset.describe()"
      ],
      "execution_count": null,
      "outputs": [
        {
          "output_type": "execute_result",
          "data": {
            "text/html": [
              "<div>\n",
              "<style scoped>\n",
              "    .dataframe tbody tr th:only-of-type {\n",
              "        vertical-align: middle;\n",
              "    }\n",
              "\n",
              "    .dataframe tbody tr th {\n",
              "        vertical-align: top;\n",
              "    }\n",
              "\n",
              "    .dataframe thead th {\n",
              "        text-align: right;\n",
              "    }\n",
              "</style>\n",
              "<table border=\"1\" class=\"dataframe\">\n",
              "  <thead>\n",
              "    <tr style=\"text-align: right;\">\n",
              "      <th></th>\n",
              "      <th>CRIM</th>\n",
              "      <th>ZN</th>\n",
              "      <th>INDUS</th>\n",
              "      <th>CHAS</th>\n",
              "      <th>NOX</th>\n",
              "      <th>RM</th>\n",
              "      <th>AGE</th>\n",
              "      <th>DIS</th>\n",
              "      <th>RAD</th>\n",
              "      <th>TAX</th>\n",
              "      <th>PTRATIO</th>\n",
              "      <th>B</th>\n",
              "      <th>LSTAT</th>\n",
              "      <th>MEDV</th>\n",
              "    </tr>\n",
              "  </thead>\n",
              "  <tbody>\n",
              "    <tr>\n",
              "      <th>count</th>\n",
              "      <td>5.1e+02</td>\n",
              "      <td>506.0</td>\n",
              "      <td>506.0</td>\n",
              "      <td>5.1e+02</td>\n",
              "      <td>506.0</td>\n",
              "      <td>506.0</td>\n",
              "      <td>506.0</td>\n",
              "      <td>506.0</td>\n",
              "      <td>506.0</td>\n",
              "      <td>506.0</td>\n",
              "      <td>506.0</td>\n",
              "      <td>506.0</td>\n",
              "      <td>506.0</td>\n",
              "      <td>506.0</td>\n",
              "    </tr>\n",
              "    <tr>\n",
              "      <th>mean</th>\n",
              "      <td>3.6e+00</td>\n",
              "      <td>11.4</td>\n",
              "      <td>11.1</td>\n",
              "      <td>6.9e-02</td>\n",
              "      <td>0.6</td>\n",
              "      <td>6.3</td>\n",
              "      <td>68.6</td>\n",
              "      <td>3.8</td>\n",
              "      <td>9.5</td>\n",
              "      <td>408.2</td>\n",
              "      <td>18.5</td>\n",
              "      <td>356.7</td>\n",
              "      <td>12.7</td>\n",
              "      <td>22.5</td>\n",
              "    </tr>\n",
              "    <tr>\n",
              "      <th>std</th>\n",
              "      <td>8.6e+00</td>\n",
              "      <td>23.3</td>\n",
              "      <td>6.9</td>\n",
              "      <td>2.5e-01</td>\n",
              "      <td>0.1</td>\n",
              "      <td>0.7</td>\n",
              "      <td>28.1</td>\n",
              "      <td>2.1</td>\n",
              "      <td>8.7</td>\n",
              "      <td>168.5</td>\n",
              "      <td>2.2</td>\n",
              "      <td>91.3</td>\n",
              "      <td>7.1</td>\n",
              "      <td>9.2</td>\n",
              "    </tr>\n",
              "    <tr>\n",
              "      <th>min</th>\n",
              "      <td>6.3e-03</td>\n",
              "      <td>0.0</td>\n",
              "      <td>0.5</td>\n",
              "      <td>0.0e+00</td>\n",
              "      <td>0.4</td>\n",
              "      <td>3.6</td>\n",
              "      <td>2.9</td>\n",
              "      <td>1.1</td>\n",
              "      <td>1.0</td>\n",
              "      <td>187.0</td>\n",
              "      <td>12.6</td>\n",
              "      <td>0.3</td>\n",
              "      <td>1.7</td>\n",
              "      <td>5.0</td>\n",
              "    </tr>\n",
              "    <tr>\n",
              "      <th>25%</th>\n",
              "      <td>8.2e-02</td>\n",
              "      <td>0.0</td>\n",
              "      <td>5.2</td>\n",
              "      <td>0.0e+00</td>\n",
              "      <td>0.4</td>\n",
              "      <td>5.9</td>\n",
              "      <td>45.0</td>\n",
              "      <td>2.1</td>\n",
              "      <td>4.0</td>\n",
              "      <td>279.0</td>\n",
              "      <td>17.4</td>\n",
              "      <td>375.4</td>\n",
              "      <td>6.9</td>\n",
              "      <td>17.0</td>\n",
              "    </tr>\n",
              "    <tr>\n",
              "      <th>50%</th>\n",
              "      <td>2.6e-01</td>\n",
              "      <td>0.0</td>\n",
              "      <td>9.7</td>\n",
              "      <td>0.0e+00</td>\n",
              "      <td>0.5</td>\n",
              "      <td>6.2</td>\n",
              "      <td>77.5</td>\n",
              "      <td>3.2</td>\n",
              "      <td>5.0</td>\n",
              "      <td>330.0</td>\n",
              "      <td>19.1</td>\n",
              "      <td>391.4</td>\n",
              "      <td>11.4</td>\n",
              "      <td>21.2</td>\n",
              "    </tr>\n",
              "    <tr>\n",
              "      <th>75%</th>\n",
              "      <td>3.7e+00</td>\n",
              "      <td>12.5</td>\n",
              "      <td>18.1</td>\n",
              "      <td>0.0e+00</td>\n",
              "      <td>0.6</td>\n",
              "      <td>6.6</td>\n",
              "      <td>94.1</td>\n",
              "      <td>5.2</td>\n",
              "      <td>24.0</td>\n",
              "      <td>666.0</td>\n",
              "      <td>20.2</td>\n",
              "      <td>396.2</td>\n",
              "      <td>17.0</td>\n",
              "      <td>25.0</td>\n",
              "    </tr>\n",
              "    <tr>\n",
              "      <th>max</th>\n",
              "      <td>8.9e+01</td>\n",
              "      <td>100.0</td>\n",
              "      <td>27.7</td>\n",
              "      <td>1.0e+00</td>\n",
              "      <td>0.9</td>\n",
              "      <td>8.8</td>\n",
              "      <td>100.0</td>\n",
              "      <td>12.1</td>\n",
              "      <td>24.0</td>\n",
              "      <td>711.0</td>\n",
              "      <td>22.0</td>\n",
              "      <td>396.9</td>\n",
              "      <td>38.0</td>\n",
              "      <td>50.0</td>\n",
              "    </tr>\n",
              "  </tbody>\n",
              "</table>\n",
              "</div>"
            ],
            "text/plain": [
              "          CRIM     ZN  INDUS     CHAS  ...  PTRATIO      B  LSTAT   MEDV\n",
              "count  5.1e+02  506.0  506.0  5.1e+02  ...    506.0  506.0  506.0  506.0\n",
              "mean   3.6e+00   11.4   11.1  6.9e-02  ...     18.5  356.7   12.7   22.5\n",
              "std    8.6e+00   23.3    6.9  2.5e-01  ...      2.2   91.3    7.1    9.2\n",
              "min    6.3e-03    0.0    0.5  0.0e+00  ...     12.6    0.3    1.7    5.0\n",
              "25%    8.2e-02    0.0    5.2  0.0e+00  ...     17.4  375.4    6.9   17.0\n",
              "50%    2.6e-01    0.0    9.7  0.0e+00  ...     19.1  391.4   11.4   21.2\n",
              "75%    3.7e+00   12.5   18.1  0.0e+00  ...     20.2  396.2   17.0   25.0\n",
              "max    8.9e+01  100.0   27.7  1.0e+00  ...     22.0  396.9   38.0   50.0\n",
              "\n",
              "[8 rows x 14 columns]"
            ]
          },
          "metadata": {},
          "execution_count": 13
        }
      ]
    },
    {
      "cell_type": "code",
      "metadata": {
        "colab": {
          "base_uri": "https://localhost:8080/",
          "height": 483
        },
        "id": "QJxyrBJKmKEz",
        "outputId": "4601893f-dcb9-400d-f233-6949728af8f1"
      },
      "source": [
        "set_option('precision', 2)\n",
        "dataset.corr(method='pearson')"
      ],
      "execution_count": null,
      "outputs": [
        {
          "output_type": "execute_result",
          "data": {
            "text/html": [
              "<div>\n",
              "<style scoped>\n",
              "    .dataframe tbody tr th:only-of-type {\n",
              "        vertical-align: middle;\n",
              "    }\n",
              "\n",
              "    .dataframe tbody tr th {\n",
              "        vertical-align: top;\n",
              "    }\n",
              "\n",
              "    .dataframe thead th {\n",
              "        text-align: right;\n",
              "    }\n",
              "</style>\n",
              "<table border=\"1\" class=\"dataframe\">\n",
              "  <thead>\n",
              "    <tr style=\"text-align: right;\">\n",
              "      <th></th>\n",
              "      <th>CRIM</th>\n",
              "      <th>ZN</th>\n",
              "      <th>INDUS</th>\n",
              "      <th>CHAS</th>\n",
              "      <th>NOX</th>\n",
              "      <th>RM</th>\n",
              "      <th>AGE</th>\n",
              "      <th>DIS</th>\n",
              "      <th>RAD</th>\n",
              "      <th>TAX</th>\n",
              "      <th>PTRATIO</th>\n",
              "      <th>B</th>\n",
              "      <th>LSTAT</th>\n",
              "      <th>MEDV</th>\n",
              "    </tr>\n",
              "  </thead>\n",
              "  <tbody>\n",
              "    <tr>\n",
              "      <th>CRIM</th>\n",
              "      <td>1.00</td>\n",
              "      <td>-0.20</td>\n",
              "      <td>0.41</td>\n",
              "      <td>-5.59e-02</td>\n",
              "      <td>0.42</td>\n",
              "      <td>-0.22</td>\n",
              "      <td>0.35</td>\n",
              "      <td>-0.38</td>\n",
              "      <td>6.26e-01</td>\n",
              "      <td>0.58</td>\n",
              "      <td>0.29</td>\n",
              "      <td>-0.39</td>\n",
              "      <td>0.46</td>\n",
              "      <td>-0.39</td>\n",
              "    </tr>\n",
              "    <tr>\n",
              "      <th>ZN</th>\n",
              "      <td>-0.20</td>\n",
              "      <td>1.00</td>\n",
              "      <td>-0.53</td>\n",
              "      <td>-4.27e-02</td>\n",
              "      <td>-0.52</td>\n",
              "      <td>0.31</td>\n",
              "      <td>-0.57</td>\n",
              "      <td>0.66</td>\n",
              "      <td>-3.12e-01</td>\n",
              "      <td>-0.31</td>\n",
              "      <td>-0.39</td>\n",
              "      <td>0.18</td>\n",
              "      <td>-0.41</td>\n",
              "      <td>0.36</td>\n",
              "    </tr>\n",
              "    <tr>\n",
              "      <th>INDUS</th>\n",
              "      <td>0.41</td>\n",
              "      <td>-0.53</td>\n",
              "      <td>1.00</td>\n",
              "      <td>6.29e-02</td>\n",
              "      <td>0.76</td>\n",
              "      <td>-0.39</td>\n",
              "      <td>0.64</td>\n",
              "      <td>-0.71</td>\n",
              "      <td>5.95e-01</td>\n",
              "      <td>0.72</td>\n",
              "      <td>0.38</td>\n",
              "      <td>-0.36</td>\n",
              "      <td>0.60</td>\n",
              "      <td>-0.48</td>\n",
              "    </tr>\n",
              "    <tr>\n",
              "      <th>CHAS</th>\n",
              "      <td>-0.06</td>\n",
              "      <td>-0.04</td>\n",
              "      <td>0.06</td>\n",
              "      <td>1.00e+00</td>\n",
              "      <td>0.09</td>\n",
              "      <td>0.09</td>\n",
              "      <td>0.09</td>\n",
              "      <td>-0.10</td>\n",
              "      <td>-7.37e-03</td>\n",
              "      <td>-0.04</td>\n",
              "      <td>-0.12</td>\n",
              "      <td>0.05</td>\n",
              "      <td>-0.05</td>\n",
              "      <td>0.18</td>\n",
              "    </tr>\n",
              "    <tr>\n",
              "      <th>NOX</th>\n",
              "      <td>0.42</td>\n",
              "      <td>-0.52</td>\n",
              "      <td>0.76</td>\n",
              "      <td>9.12e-02</td>\n",
              "      <td>1.00</td>\n",
              "      <td>-0.30</td>\n",
              "      <td>0.73</td>\n",
              "      <td>-0.77</td>\n",
              "      <td>6.11e-01</td>\n",
              "      <td>0.67</td>\n",
              "      <td>0.19</td>\n",
              "      <td>-0.38</td>\n",
              "      <td>0.59</td>\n",
              "      <td>-0.43</td>\n",
              "    </tr>\n",
              "    <tr>\n",
              "      <th>RM</th>\n",
              "      <td>-0.22</td>\n",
              "      <td>0.31</td>\n",
              "      <td>-0.39</td>\n",
              "      <td>9.13e-02</td>\n",
              "      <td>-0.30</td>\n",
              "      <td>1.00</td>\n",
              "      <td>-0.24</td>\n",
              "      <td>0.21</td>\n",
              "      <td>-2.10e-01</td>\n",
              "      <td>-0.29</td>\n",
              "      <td>-0.36</td>\n",
              "      <td>0.13</td>\n",
              "      <td>-0.61</td>\n",
              "      <td>0.70</td>\n",
              "    </tr>\n",
              "    <tr>\n",
              "      <th>AGE</th>\n",
              "      <td>0.35</td>\n",
              "      <td>-0.57</td>\n",
              "      <td>0.64</td>\n",
              "      <td>8.65e-02</td>\n",
              "      <td>0.73</td>\n",
              "      <td>-0.24</td>\n",
              "      <td>1.00</td>\n",
              "      <td>-0.75</td>\n",
              "      <td>4.56e-01</td>\n",
              "      <td>0.51</td>\n",
              "      <td>0.26</td>\n",
              "      <td>-0.27</td>\n",
              "      <td>0.60</td>\n",
              "      <td>-0.38</td>\n",
              "    </tr>\n",
              "    <tr>\n",
              "      <th>DIS</th>\n",
              "      <td>-0.38</td>\n",
              "      <td>0.66</td>\n",
              "      <td>-0.71</td>\n",
              "      <td>-9.92e-02</td>\n",
              "      <td>-0.77</td>\n",
              "      <td>0.21</td>\n",
              "      <td>-0.75</td>\n",
              "      <td>1.00</td>\n",
              "      <td>-4.95e-01</td>\n",
              "      <td>-0.53</td>\n",
              "      <td>-0.23</td>\n",
              "      <td>0.29</td>\n",
              "      <td>-0.50</td>\n",
              "      <td>0.25</td>\n",
              "    </tr>\n",
              "    <tr>\n",
              "      <th>RAD</th>\n",
              "      <td>0.63</td>\n",
              "      <td>-0.31</td>\n",
              "      <td>0.60</td>\n",
              "      <td>-7.37e-03</td>\n",
              "      <td>0.61</td>\n",
              "      <td>-0.21</td>\n",
              "      <td>0.46</td>\n",
              "      <td>-0.49</td>\n",
              "      <td>1.00e+00</td>\n",
              "      <td>0.91</td>\n",
              "      <td>0.46</td>\n",
              "      <td>-0.44</td>\n",
              "      <td>0.49</td>\n",
              "      <td>-0.38</td>\n",
              "    </tr>\n",
              "    <tr>\n",
              "      <th>TAX</th>\n",
              "      <td>0.58</td>\n",
              "      <td>-0.31</td>\n",
              "      <td>0.72</td>\n",
              "      <td>-3.56e-02</td>\n",
              "      <td>0.67</td>\n",
              "      <td>-0.29</td>\n",
              "      <td>0.51</td>\n",
              "      <td>-0.53</td>\n",
              "      <td>9.10e-01</td>\n",
              "      <td>1.00</td>\n",
              "      <td>0.46</td>\n",
              "      <td>-0.44</td>\n",
              "      <td>0.54</td>\n",
              "      <td>-0.47</td>\n",
              "    </tr>\n",
              "    <tr>\n",
              "      <th>PTRATIO</th>\n",
              "      <td>0.29</td>\n",
              "      <td>-0.39</td>\n",
              "      <td>0.38</td>\n",
              "      <td>-1.22e-01</td>\n",
              "      <td>0.19</td>\n",
              "      <td>-0.36</td>\n",
              "      <td>0.26</td>\n",
              "      <td>-0.23</td>\n",
              "      <td>4.65e-01</td>\n",
              "      <td>0.46</td>\n",
              "      <td>1.00</td>\n",
              "      <td>-0.18</td>\n",
              "      <td>0.37</td>\n",
              "      <td>-0.51</td>\n",
              "    </tr>\n",
              "    <tr>\n",
              "      <th>B</th>\n",
              "      <td>-0.39</td>\n",
              "      <td>0.18</td>\n",
              "      <td>-0.36</td>\n",
              "      <td>4.88e-02</td>\n",
              "      <td>-0.38</td>\n",
              "      <td>0.13</td>\n",
              "      <td>-0.27</td>\n",
              "      <td>0.29</td>\n",
              "      <td>-4.44e-01</td>\n",
              "      <td>-0.44</td>\n",
              "      <td>-0.18</td>\n",
              "      <td>1.00</td>\n",
              "      <td>-0.37</td>\n",
              "      <td>0.33</td>\n",
              "    </tr>\n",
              "    <tr>\n",
              "      <th>LSTAT</th>\n",
              "      <td>0.46</td>\n",
              "      <td>-0.41</td>\n",
              "      <td>0.60</td>\n",
              "      <td>-5.39e-02</td>\n",
              "      <td>0.59</td>\n",
              "      <td>-0.61</td>\n",
              "      <td>0.60</td>\n",
              "      <td>-0.50</td>\n",
              "      <td>4.89e-01</td>\n",
              "      <td>0.54</td>\n",
              "      <td>0.37</td>\n",
              "      <td>-0.37</td>\n",
              "      <td>1.00</td>\n",
              "      <td>-0.74</td>\n",
              "    </tr>\n",
              "    <tr>\n",
              "      <th>MEDV</th>\n",
              "      <td>-0.39</td>\n",
              "      <td>0.36</td>\n",
              "      <td>-0.48</td>\n",
              "      <td>1.75e-01</td>\n",
              "      <td>-0.43</td>\n",
              "      <td>0.70</td>\n",
              "      <td>-0.38</td>\n",
              "      <td>0.25</td>\n",
              "      <td>-3.82e-01</td>\n",
              "      <td>-0.47</td>\n",
              "      <td>-0.51</td>\n",
              "      <td>0.33</td>\n",
              "      <td>-0.74</td>\n",
              "      <td>1.00</td>\n",
              "    </tr>\n",
              "  </tbody>\n",
              "</table>\n",
              "</div>"
            ],
            "text/plain": [
              "         CRIM    ZN  INDUS      CHAS   NOX  ...   TAX  PTRATIO     B  LSTAT  MEDV\n",
              "CRIM     1.00 -0.20   0.41 -5.59e-02  0.42  ...  0.58     0.29 -0.39   0.46 -0.39\n",
              "ZN      -0.20  1.00  -0.53 -4.27e-02 -0.52  ... -0.31    -0.39  0.18  -0.41  0.36\n",
              "INDUS    0.41 -0.53   1.00  6.29e-02  0.76  ...  0.72     0.38 -0.36   0.60 -0.48\n",
              "CHAS    -0.06 -0.04   0.06  1.00e+00  0.09  ... -0.04    -0.12  0.05  -0.05  0.18\n",
              "NOX      0.42 -0.52   0.76  9.12e-02  1.00  ...  0.67     0.19 -0.38   0.59 -0.43\n",
              "RM      -0.22  0.31  -0.39  9.13e-02 -0.30  ... -0.29    -0.36  0.13  -0.61  0.70\n",
              "AGE      0.35 -0.57   0.64  8.65e-02  0.73  ...  0.51     0.26 -0.27   0.60 -0.38\n",
              "DIS     -0.38  0.66  -0.71 -9.92e-02 -0.77  ... -0.53    -0.23  0.29  -0.50  0.25\n",
              "RAD      0.63 -0.31   0.60 -7.37e-03  0.61  ...  0.91     0.46 -0.44   0.49 -0.38\n",
              "TAX      0.58 -0.31   0.72 -3.56e-02  0.67  ...  1.00     0.46 -0.44   0.54 -0.47\n",
              "PTRATIO  0.29 -0.39   0.38 -1.22e-01  0.19  ...  0.46     1.00 -0.18   0.37 -0.51\n",
              "B       -0.39  0.18  -0.36  4.88e-02 -0.38  ... -0.44    -0.18  1.00  -0.37  0.33\n",
              "LSTAT    0.46 -0.41   0.60 -5.39e-02  0.59  ...  0.54     0.37 -0.37   1.00 -0.74\n",
              "MEDV    -0.39  0.36  -0.48  1.75e-01 -0.43  ... -0.47    -0.51  0.33  -0.74  1.00\n",
              "\n",
              "[14 rows x 14 columns]"
            ]
          },
          "metadata": {},
          "execution_count": 14
        }
      ]
    },
    {
      "cell_type": "code",
      "metadata": {
        "colab": {
          "base_uri": "https://localhost:8080/",
          "height": 272
        },
        "id": "31qZmWkEmmqO",
        "outputId": "ab4295da-5550-4861-9160-02ceb063ce27"
      },
      "source": [
        "#histogram\n",
        "dataset.hist(sharex=False, sharey=False, xlabelsize=1, ylabelsize=1)\n",
        "pyplot.show()"
      ],
      "execution_count": null,
      "outputs": [
        {
          "output_type": "display_data",
          "data": {
            "image/png": "[encoded data removed]",
            "text/plain": [
              "<Figure size 432x288 with 16 Axes>"
            ]
          },
          "metadata": {
            "needs_background": "light"
          }
        }
      ]
    },
    {
      "cell_type": "code",
      "metadata": {
        "colab": {
          "base_uri": "https://localhost:8080/",
          "height": 256
        },
        "id": "gVRV3uGtnaD9",
        "outputId": "1f577b03-7236-4452-c356-b54b3076421d"
      },
      "source": [
        "# density\n",
        "dataset.plot(kind='density', subplots=True, layout=(4,4), sharex=False, sharey=False, fontsize=1)\n",
        "pyplot.show()\n"
      ],
      "execution_count": null,
      "outputs": [
        {
          "output_type": "display_data",
          "data": {
            "image/png": "[encoded data removed]",
            "text/plain": [
              "<Figure size 432x288 with 16 Axes>"
            ]
          },
          "metadata": {
            "needs_background": "light"
          }
        }
      ]
    },
    {
      "cell_type": "code",
      "metadata": {
        "colab": {
          "base_uri": "https://localhost:8080/",
          "height": 266
        },
        "id": "bzMLzYZRoMGJ",
        "outputId": "c215a141-09d6-40f7-cfc8-203c66250d25"
      },
      "source": [
        "#boxplot\n",
        "dataset.plot(kind='box', subplots=True, layout=(4,4), sharex=False, sharey=False, fontsize=8)\n",
        "pyplot.show()"
      ],
      "execution_count": null,
      "outputs": [
        {
          "output_type": "display_data",
          "data": {
            "image/png": "[encoded data removed]",
            "text/plain": [
              "<Figure size 432x288 with 16 Axes>"
            ]
          },
          "metadata": {
            "needs_background": "light"
          }
        }
      ]
    },
    {
      "cell_type": "code",
      "metadata": {
        "colab": {
          "base_uri": "https://localhost:8080/",
          "height": 292
        },
        "id": "2lCF2NAZpjjc",
        "outputId": "4e09c5ad-9d24-4663-9817-ba4f5d0a5e6e"
      },
      "source": [
        "#scatter plot\n",
        "scatter_matrix(dataset)\n",
        "pyplot.show()"
      ],
      "execution_count": null,
      "outputs": [
        {
          "output_type": "display_data",
          "data": {
            "image/png": "[encoded data removed]",
            "text/plain": [
              "<Figure size 432x288 with 196 Axes>"
            ]
          },
          "metadata": {
            "needs_background": "light"
          }
        }
      ]
    },
    {
      "cell_type": "code",
      "metadata": {
        "colab": {
          "base_uri": "https://localhost:8080/",
          "height": 380
        },
        "id": "bTlltXbiqGes",
        "outputId": "fafb70bc-e9d7-4815-86ab-fc63c467bff7"
      },
      "source": [
        "#correlation matrix\n",
        "fig = pyplot.figure(figsize=(10,6))\n",
        "ax = fig.add_subplot(111)\n",
        "cax = ax.matshow(dataset.corr(), vmax = 1, vmin =-1, interpolation = 'none')\n",
        "fig.colorbar(cax)\n",
        "ticks = numpy.arange(0,14,1)\n",
        "ax.set_xticks(ticks)\n",
        "ax.set_yticks(ticks)\n",
        "ax.set_xticklabels(names)\n",
        "ax.set_yticklabels(names)\n",
        "pyplot.show()"
      ],
      "execution_count": null,
      "outputs": [
        {
          "output_type": "display_data",
          "data": {
            "image/png": "[encoded data removed]",
            "text/plain": [
              "<Figure size 720x432 with 2 Axes>"
            ]
          },
          "metadata": {
            "needs_background": "light"
          }
        }
      ]
    },
    {
      "cell_type": "code",
      "metadata": {
        "id": "9Cpgqv2FmhkZ"
      },
      "source": [
        "# split-out validation dataset\n",
        "array = dataset.values\n",
        "X = array[:,:13]\n",
        "Y = array[:,13]\n",
        "validation_size = 0.20\n",
        "seed = 7\n",
        "X_train, X_test, Y_train, Y_test = train_test_split(X, Y, test_size= validation_size, random_state=seed)\n"
      ],
      "execution_count": null,
      "outputs": []
    },
    {
      "cell_type": "code",
      "metadata": {
        "id": "O_cfK5yYoBL2"
      },
      "source": [
        "# Test options and evaluation metric\n",
        "num_fold = 10\n",
        "seed = 7\n",
        "scoring = 'neg_mean_squared_error'"
      ],
      "execution_count": null,
      "outputs": []
    },
    {
      "cell_type": "code",
      "metadata": {
        "id": "KWZrH333ob0X"
      },
      "source": [
        "# Spot-check algorithms\n",
        "models = []\n",
        "models.append(('LR', LinearRegression()))\n",
        "models.append(('LASSO', Lasso()))\n",
        "models.append(('EN', ElasticNet()))\n",
        "models.append(('KNN', KNeighborsRegressor()))\n",
        "models.append(('CART', DecisionTreeRegressor()))\n",
        "models.append(('SVR', SVR()))"
      ],
      "execution_count": null,
      "outputs": []
    },
    {
      "cell_type": "code",
      "metadata": {
        "colab": {
          "base_uri": "https://localhost:8080/"
        },
        "id": "aAdifikepMij",
        "outputId": "e74390ee-7543-4162-efe9-9f0fddfe0b52"
      },
      "source": [
        "# evaluate each models\n",
        "results = []\n",
        "names = []\n",
        "for name, model in models:\n",
        "  kfold = KFold(n_splits=num_fold, random_state=seed, shuffle=True)\n",
        "  cv_results = cross_val_score(model, X_train, Y_train,cv =kfold, scoring = scoring)\n",
        "  results.append(cv_results)\n",
        "  names.append(name)\n",
        "  msg = \"%s %f  (%f)\" %(name, cv_results.mean(), cv_results.std())\n",
        "  print(msg)"
      ],
      "execution_count": null,
      "outputs": [
        {
          "output_type": "stream",
          "name": "stdout",
          "text": [
            "LR -22.006009  (12.188886)\n",
            "LASSO -27.105803  (13.165915)\n",
            "EN -27.923014  (13.156405)\n",
            "KNN -39.808936  (16.507968)\n",
            "CART -26.708782  (19.004446)\n",
            "SVR -67.824705  (32.801530)\n"
          ]
        }
      ]
    },
    {
      "cell_type": "markdown",
      "metadata": {
        "id": "vbsiLguXrFgZ"
      },
      "source": [
        "LR has the lowest MSE"
      ]
    },
    {
      "cell_type": "code",
      "metadata": {
        "colab": {
          "base_uri": "https://localhost:8080/",
          "height": 294
        },
        "id": "WXST3LqTqg5W",
        "outputId": "b356deee-3737-4b4b-d37e-f375843ef650"
      },
      "source": [
        "# Compare algorithms\n",
        "fig = pyplot.figure()\n",
        "fig.suptitle('Algoriths comparison')\n",
        "ax = fig.add_subplot(111)\n",
        "pyplot.boxplot(results)\n",
        "ax.set_xticklabels(names)\n",
        "pyplot.show()"
      ],
      "execution_count": null,
      "outputs": [
        {
          "output_type": "display_data",
          "data": {
            "image/png": "[encoded data removed]",
            "text/plain": [
              "<Figure size 432x288 with 1 Axes>"
            ]
          },
          "metadata": {
            "needs_background": "light"
          }
        }
      ]
    },
    {
      "cell_type": "markdown",
      "metadata": {
        "id": "tBErHLQJsCnq"
      },
      "source": [
        "The differing scales of data probably hurting the skill of all the algorithms. Standardized the data and evaluating the algorithms again"
      ]
    },
    {
      "cell_type": "code",
      "metadata": {
        "colab": {
          "base_uri": "https://localhost:8080/"
        },
        "id": "lJzQk-Ocr2bQ",
        "outputId": "537c2abe-b509-4ee9-cdd1-3d63f7e25bde"
      },
      "source": [
        "# Standardize the dataset\n",
        "pipelines = []\n",
        "pipelines.append(('ScaledLR', Pipeline([('Scaler', StandardScaler()),('LR', LinearRegression())])))\n",
        "pipelines.append(('ScaledLASSO', Pipeline([('Scaler', StandardScaler()),('LASSO', Lasso())])))\n",
        "pipelines.append(('ScaledEN', Pipeline([('Scaler', StandardScaler()),('EN', ElasticNet())])))\n",
        "pipelines.append(('ScaledKNN', Pipeline([('Scaler', StandardScaler()),('KNN', KNeighborsRegressor())])))\n",
        "pipelines.append(('ScaledCART', Pipeline([('Scaler', StandardScaler()),('CART', DecisionTreeRegressor())])))\n",
        "pipelines.append(('ScaledSVR', Pipeline([('Scaler', StandardScaler()),('SVR', SVR())])))\n",
        "results = []\n",
        "names = []\n",
        "for name, model in pipelines:\n",
        "  kfold = KFold(n_splits=num_fold, random_state=seed, shuffle=True)\n",
        "  cv_results = cross_val_score(model, X_train, Y_train,cv =kfold, scoring = scoring)\n",
        "  results.append(cv_results)\n",
        "  names.append(name)\n",
        "  msg = \"%s %f  (%f)\" %(name, cv_results.mean(), cv_results.std())\n",
        "  print(msg)"
      ],
      "execution_count": null,
      "outputs": [
        {
          "output_type": "stream",
          "name": "stdout",
          "text": [
            "ScaledLR -22.006009  (12.188886)\n",
            "ScaledLASSO -27.205896  (12.124418)\n",
            "ScaledEN -28.301160  (13.609110)\n",
            "ScaledKNN -21.456867  (15.016218)\n",
            "ScaledCART -27.217103  (18.834153)\n",
            "ScaledSVR -29.570433  (18.052964)\n"
          ]
        }
      ]
    },
    {
      "cell_type": "markdown",
      "metadata": {
        "id": "asY4usuxuEq3"
      },
      "source": [
        "Running algorithms on standard data provides list of mean squired errors and have effect on KNN making the error lower than the other models"
      ]
    },
    {
      "cell_type": "code",
      "metadata": {
        "colab": {
          "base_uri": "https://localhost:8080/",
          "height": 417
        },
        "id": "QV46hbYdt1Pq",
        "outputId": "0d7aa4c6-9f99-4c3a-8901-3b357171a1e9"
      },
      "source": [
        "# Compare Algorithms\n",
        "fig = pyplot.figure(figsize=(10,6))\n",
        "fig.suptitle('Algorithms Comparision')\n",
        "ax = fig.add_subplot(111)\n",
        "pyplot.boxplot(results)\n",
        "ax.set_xticklabels(names)\n",
        "pyplot.show()"
      ],
      "execution_count": null,
      "outputs": [
        {
          "output_type": "display_data",
          "data": {
            "image/png": "[encoded data removed]",
            "text/plain": [
              "<Figure size 720x432 with 1 Axes>"
            ]
          },
          "metadata": {
            "needs_background": "light"
          }
        }
      ]
    },
    {
      "cell_type": "markdown",
      "metadata": {
        "id": "oDu1ahJcwW2L"
      },
      "source": [
        "KNN has both tight distribution and lowest score. Now we can improve KNN result using tuning"
      ]
    },
    {
      "cell_type": "code",
      "metadata": {
        "id": "vyGM7TqLvByu"
      },
      "source": [
        "# KNN Algorithm tuning\n",
        "scaler = StandardScaler().fit(X_train)\n",
        "rescaledX = scaler.transform(X_train)\n",
        "k_values = [i for i in range(1,22,2)]\n",
        "param_grid = dict(n_neighbors = k_values)\n",
        "model = KNeighborsRegressor()\n",
        "kfold = KFold(n_splits= num_fold, random_state=seed, shuffle=True)\n",
        "grid = GridSearchCV(estimator=model, param_grid= param_grid, scoring=scoring, cv=kfold)\n",
        "grid_result = grid.fit(rescaledX, Y_train)"
      ],
      "execution_count": 52,
      "outputs": []
    },
    {
      "cell_type": "code",
      "metadata": {
        "colab": {
          "base_uri": "https://localhost:8080/"
        },
        "id": "TFtHwMfrzfkG",
        "outputId": "b300b4ee-9d68-44db-b11f-b32572ff84be"
      },
      "source": [
        "print(\"Best: %f using %s\" % (grid_result.best_score_, grid_result.best_params_))\n",
        "means = grid_result.cv_results_['mean_test_score']\n",
        "stds = grid_result.cv_results_['std_test_score']\n",
        "params = grid_result.cv_results_['params']\n",
        "for mean, stdev, param in zip(means, stds, params):\n",
        "  print(\"%f (%f) with: %r\" % (mean, stdev, param))"
      ],
      "execution_count": 56,
      "outputs": [
        {
          "output_type": "stream",
          "name": "stdout",
          "text": [
            "Best: -19.497829 using {'n_neighbors': 1}\n",
            "-19.497829 (15.769847) with: {'n_neighbors': 1}\n",
            "-19.977984 (13.803973) with: {'n_neighbors': 3}\n",
            "-21.270967 (14.833544) with: {'n_neighbors': 5}\n",
            "-21.577292 (14.952592) with: {'n_neighbors': 7}\n",
            "-21.001075 (14.701297) with: {'n_neighbors': 9}\n",
            "-21.490306 (14.866957) with: {'n_neighbors': 11}\n",
            "-21.268533 (14.454969) with: {'n_neighbors': 13}\n",
            "-21.968092 (14.209894) with: {'n_neighbors': 15}\n",
            "-22.739880 (14.492752) with: {'n_neighbors': 17}\n",
            "-23.506901 (14.903224) with: {'n_neighbors': 19}\n",
            "-24.240303 (15.156565) with: {'n_neighbors': 21}\n"
          ]
        }
      ]
    },
    {
      "cell_type": "markdown",
      "metadata": {
        "id": "9r80IPxf4SSE"
      },
      "source": [
        "We can see that the best k is 1. Another way to improve the performance is by using ensemble methods"
      ]
    },
    {
      "cell_type": "code",
      "metadata": {
        "id": "_RaUpMIb1PgD",
        "colab": {
          "base_uri": "https://localhost:8080/"
        },
        "outputId": "43b5bc9a-22d8-4a7b-b816-e61fed596fc6"
      },
      "source": [
        "# Ensembles\n",
        "ensembles = []\n",
        "ensembles.append(('ScaledAB', Pipeline([('Scaler', StandardScaler()),('AB', AdaBoostRegressor())])))\n",
        "ensembles.append(('ScaledGBM', Pipeline([('Scaler', StandardScaler()),('GBM', GradientBoostingRegressor())])))\n",
        "ensembles.append(('ScaledRF', Pipeline([('Scaler', StandardScaler()),('RF', RandomForestRegressor())])))\n",
        "ensembles.append(('ScaledET', Pipeline([('Scaler', StandardScaler()),('ET', ExtraTreesRegressor())])))\n",
        "results = []\n",
        "names = []\n",
        "for name, model in ensembles:\n",
        "  kfold = KFold(n_splits=num_fold, random_state=seed, shuffle=True)\n",
        "  cv_results = cross_val_score(model, X_train, Y_train, scoring=scoring, cv = kfold)\n",
        "  results.append(cv_results)\n",
        "  names.append(name)\n",
        "  msg = \"%s %f  (%f)\" % (name, cv_results.mean(), cv_results.std())\n",
        "  print(msg)"
      ],
      "execution_count": 58,
      "outputs": [
        {
          "output_type": "stream",
          "name": "stdout",
          "text": [
            "ScaledAB -15.420193  (7.452822)\n",
            "ScaledGBM -10.805142  (8.528877)\n",
            "ScaledRF -12.712450  (9.302501)\n",
            "ScaledET -9.199787  (6.677822)\n"
          ]
        }
      ]
    },
    {
      "cell_type": "code",
      "metadata": {
        "colab": {
          "base_uri": "https://localhost:8080/",
          "height": 417
        },
        "id": "wdt91O0l6oQW",
        "outputId": "2a9d6759-4b5c-4b66-82c3-a336f59ee7de"
      },
      "source": [
        "fig = pyplot.figure(figsize=(10,6))\n",
        "fig.suptitle('Scaled Ensemble Algorithm Comparision')\n",
        "ax = fig.add_subplot(111)\n",
        "pyplot.boxplot(results)\n",
        "ax.set_xticklabels(names)\n",
        "pyplot.show()"
      ],
      "execution_count": 59,
      "outputs": [
        {
          "output_type": "display_data",
          "data": {
            "image/png": "[encoded data removed]",
            "text/plain": [
              "<Figure size 720x432 with 1 Axes>"
            ]
          },
          "metadata": {
            "needs_background": "light"
          }
        }
      ]
    },
    {
      "cell_type": "markdown",
      "metadata": {
        "id": "JY0T0YjR8VwD"
      },
      "source": [
        "Gradient boosting has better mean score. now we tune GBM ensemle"
      ]
    },
    {
      "cell_type": "code",
      "metadata": {
        "id": "wt3i3AXy7jLM"
      },
      "source": [
        "# Tune Scaled GBM\n",
        "scaler = StandardScaler().fit(X_train)\n",
        "rescaledX = scaler.transform(X_train)\n",
        "param_grid = dict(n_estimators = [i for i in range(50,401,50)])\n",
        "model = GradientBoostingRegressor(random_state=seed)\n",
        "kfold = KFold(n_splits=num_fold, random_state=seed, shuffle=True)\n",
        "grid = GridSearchCV(estimator=model, param_grid = param_grid, scoring=scoring, cv=kfold)\n",
        "grid_result = grid.fit(rescaledX, Y_train)\n"
      ],
      "execution_count": 63,
      "outputs": []
    },
    {
      "cell_type": "code",
      "metadata": {
        "colab": {
          "base_uri": "https://localhost:8080/"
        },
        "id": "VaezQwFt8SJd",
        "outputId": "3e7454c3-f289-42b9-aed4-012582ad9542"
      },
      "source": [
        "print(\"Best: %f using %s\" % (grid_result.best_score_, grid_result.best_params_))\n",
        "means = grid_result.cv_results_['mean_test_score']\n",
        "stds = grid_result.cv_results_['std_test_score']\n",
        "params = grid_result.cv_results_['params']\n",
        "for mean, stdev, param in zip(means, stds, params):\n",
        "  print(\"%f (%f) with: %r\" % (mean, stdev, param))\n"
      ],
      "execution_count": 69,
      "outputs": [
        {
          "output_type": "stream",
          "name": "stdout",
          "text": [
            "Best: -10.560638 using {'n_estimators': 400}\n",
            "-11.629999 (8.833221) with: {'n_estimators': 50}\n",
            "-11.073455 (8.772155) with: {'n_estimators': 100}\n",
            "-10.838924 (8.734377) with: {'n_estimators': 150}\n",
            "-10.785568 (8.657244) with: {'n_estimators': 200}\n",
            "-10.654778 (8.540552) with: {'n_estimators': 250}\n",
            "-10.649385 (8.497232) with: {'n_estimators': 300}\n",
            "-10.589337 (8.413596) with: {'n_estimators': 350}\n",
            "-10.560638 (8.353747) with: {'n_estimators': 400}\n"
          ]
        }
      ]
    },
    {
      "cell_type": "markdown",
      "metadata": {
        "id": "DioVjpRP_0V0"
      },
      "source": [
        "Best configuration is n_estimators=400. now we will finalize the model\n"
      ]
    },
    {
      "cell_type": "code",
      "metadata": {
        "colab": {
          "base_uri": "https://localhost:8080/"
        },
        "id": "mUX0he7U-rAJ",
        "outputId": "988e09fe-144f-41b6-dfdb-7b61d4545bc9"
      },
      "source": [
        "# prepare the model\n",
        "scaler = StandardScaler().fit(X_train)\n",
        "rescaledX = scaler.transform(X_train)\n",
        "model = GradientBoostingRegressor(random_state=seed, n_estimators=400)\n",
        "model.fit(rescaledX, Y_train)"
      ],
      "execution_count": 70,
      "outputs": [
        {
          "output_type": "execute_result",
          "data": {
            "text/plain": [
              "GradientBoostingRegressor(n_estimators=400, random_state=7)"
            ]
          },
          "metadata": {},
          "execution_count": 70
        }
      ]
    },
    {
      "cell_type": "code",
      "metadata": {
        "colab": {
          "base_uri": "https://localhost:8080/"
        },
        "id": "UIL0KoLRAbq4",
        "outputId": "8fd1acdc-96bc-4f29-fd37-1bb57c7c00e3"
      },
      "source": [
        "# transform the validation dataset\n",
        "rescaledValidationX = scaler.transform(X_test)\n",
        "predictions = model.predict(rescaledValidationX)\n",
        "print(mean_squared_error(Y_test,predictions))"
      ],
      "execution_count": 72,
      "outputs": [
        {
          "output_type": "stream",
          "name": "stdout",
          "text": [
            "11.902132586880027\n"
          ]
        }
      ]
    },
    {
      "cell_type": "code",
      "metadata": {
        "id": "t-7Bs2cuBLy4"
      },
      "source": [
        ""
      ],
      "execution_count": null,
      "outputs": []
    }
  ]
}